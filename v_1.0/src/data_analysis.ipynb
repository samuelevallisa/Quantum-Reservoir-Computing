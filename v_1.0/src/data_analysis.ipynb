{
 "cells": [
  {
   "cell_type": "code",
   "execution_count": 1,
   "metadata": {},
   "outputs": [],
   "source": [
    "import pandas as pd\n",
    "import numpy as np"
   ]
  },
  {
   "cell_type": "code",
   "execution_count": 5,
   "metadata": {},
   "outputs": [
    {
     "data": {
      "text/plain": [
       "0.0005840572017152823"
      ]
     },
     "execution_count": 5,
     "metadata": {},
     "output_type": "execute_result"
    }
   ],
   "source": [
    "data=np.random.rand(1,1000)\n",
    "data.min()"
   ]
  },
  {
   "cell_type": "code",
   "execution_count": 16,
   "metadata": {},
   "outputs": [
    {
     "name": "stdout",
     "output_type": "stream",
     "text": [
      "[[0.96905816 0.83210688 0.98787084 0.82557324 0.92785238]]\n",
      "[[0.96191284 0.44579187 0.44640339 0.2989024  0.96224339]]\n",
      "[[0.00576357 0.01337158]\n",
      " [0.01337158 0.09939408]]\n",
      "0.00017879925342642968\n"
     ]
    }
   ],
   "source": [
    "x=np.random.rand(1,5)\n",
    "y=np.random.rand(1,5)\n",
    "print(x)\n",
    "print(y)\n",
    "cov=np.cov(x,y)\n",
    "cov_matrix=(np.cov(x,y)[0,1])**2\n",
    "print(cov)\n",
    "print(cov_matrix)"
   ]
  },
  {
   "cell_type": "code",
   "execution_count": 3,
   "metadata": {},
   "outputs": [],
   "source": [
    "#alpha,reg,t_end = [r2,mape,mse]\n",
    "metrics_02_55_3 = [0.6094224806591071,0.19176160614567878,0.04066659730087516]   \n",
    "metrics_02_6_3 = [0.5602845046228879,0.20960294060679505,0.04578280134410097]\n",
    "metrics_02_7_4 = [-0.0790221678872211,0.3444926985727301,0.1123468653655119]"
   ]
  },
  {
   "cell_type": "code",
   "execution_count": 12,
   "metadata": {},
   "outputs": [],
   "source": [
    "preds = np.load('C:/Users/EBOZZOL1B/OneDrive - NTT DATA EMEAL/Projects/Git_projects/qml_code/reservoir-computing/v_1.0/Results/Metrics/Predictions_tot_Bloqade_1_3.0_step_run_gen_mode.npy')"
   ]
  },
  {
   "cell_type": "code",
   "execution_count": 19,
   "metadata": {},
   "outputs": [],
   "source": [
    "a = preds[2]\n",
    "b = preds[4]\n",
    "np.save('C:/Users/EBOZZOL1B/OneDrive - NTT DATA EMEAL/Projects/Git_projects/qml_code/reservoir-computing/v_1.0/Results/Metrics/Predictions_1_run_Bloqade_0.3_sec_alpha_0.2_reg_0.55_gen_mode', a) \n",
    "np.save('C:/Users/EBOZZOL1B/OneDrive - NTT DATA EMEAL/Projects/Git_projects/qml_code/reservoir-computing/v_1.0/Results/Metrics/Predictions_1_run_Bloqade_0.3_sec_alpha_0.2_reg_0.6_gen_mode', b) "
   ]
  },
  {
   "cell_type": "code",
   "execution_count": null,
   "metadata": {},
   "outputs": [],
   "source": []
  },
  {
   "cell_type": "code",
   "execution_count": null,
   "metadata": {},
   "outputs": [],
   "source": []
  }
 ],
 "metadata": {
  "kernelspec": {
   "display_name": "base",
   "language": "python",
   "name": "python3"
  },
  "language_info": {
   "codemirror_mode": {
    "name": "ipython",
    "version": 3
   },
   "file_extension": ".py",
   "mimetype": "text/x-python",
   "name": "python",
   "nbconvert_exporter": "python",
   "pygments_lexer": "ipython3",
   "version": "3.11.4"
  },
  "orig_nbformat": 4
 },
 "nbformat": 4,
 "nbformat_minor": 2
}
