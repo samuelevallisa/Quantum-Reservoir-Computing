{
 "cells": [
  {
   "cell_type": "code",
   "execution_count": 10,
   "metadata": {},
   "outputs": [],
   "source": [
    "import glob\n",
    "from PIL import Image\n",
    "\n",
    "def make_gif(frame_folder):\n",
    "    frames = [Image.open(image) for image in glob.glob(f\"{frame_folder}/*.png\")]\n",
    "    frame_one = frames[0]\n",
    "    frame_one.save(\"C:/Users/EBOZZOL1B/OneDrive - NTT DATA EMEAL/Projects/Git_projects/qml_code/reservoir-computing/v_1.0/Results/Hamiltonian_test/H_heatmaps/Distance/Omega_4/distance_omega_4.gif\", format=\"GIF\", append_images=frames,\n",
    "               save_all=True, duration=800, loop=0)\n",
    "    \n",
    "make_gif(\"C:/Users/EBOZZOL1B/OneDrive - NTT DATA EMEAL/Projects/Git_projects/qml_code/reservoir-computing/v_1.0/Results/Hamiltonian_test/H_heatmaps/Distance/Omega_4\")"
   ]
  },
  {
   "cell_type": "code",
   "execution_count": null,
   "metadata": {},
   "outputs": [],
   "source": []
  },
  {
   "cell_type": "code",
   "execution_count": null,
   "metadata": {},
   "outputs": [],
   "source": []
  },
  {
   "cell_type": "code",
   "execution_count": null,
   "metadata": {},
   "outputs": [],
   "source": []
  }
 ],
 "metadata": {
  "kernelspec": {
   "display_name": "env1",
   "language": "python",
   "name": "python3"
  },
  "language_info": {
   "codemirror_mode": {
    "name": "ipython",
    "version": 3
   },
   "file_extension": ".py",
   "mimetype": "text/x-python",
   "name": "python",
   "nbconvert_exporter": "python",
   "pygments_lexer": "ipython3",
   "version": "3.10.9"
  },
  "orig_nbformat": 4
 },
 "nbformat": 4,
 "nbformat_minor": 2
}
